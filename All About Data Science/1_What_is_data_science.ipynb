{
 "cells": [
  {
   "attachments": {},
   "cell_type": "markdown",
   "metadata": {},
   "source": [
    "# **Data Science**"
   ]
  },
  {
   "attachments": {},
   "cell_type": "markdown",
   "metadata": {},
   "source": [
    "### **1. What is Data Science?**\n",
    "_**Simple Definition:**_ \n",
    "  * Data Science is the process of finding meaningful patterns and insights from data.\n",
    "  * Think of data as a puzzle with many pieces, and data science as the tool to put those pieces together to uncover hidden information. \n",
    "  * It helps people make better decisions by using data to answer questions and solve problems."
   ]
  },
  {
   "attachments": {},
   "cell_type": "markdown",
   "metadata": {},
   "source": [
    "_**Technical Definition**_\n",
    "* Data science is a way to use data to answer questions and solve problems. \n",
    "* It involves collecting and cleaning data, finding patterns and trends in the data, and then presenting those findings to people in a way that helps them make better decisions. \n",
    "* Data scientists use tools like computer programming, statistical analysis, and machine learning to understand large sets of data, and then they use things like graphs and charts to show what they have learned."
   ]
  },
  {
   "attachments": {},
   "cell_type": "markdown",
   "metadata": {},
   "source": [
    "### **2. Who is a Data Scientist?**\n",
    "A data scientist is a professional who hava strong knowledge in the following skills:\n",
    "* Computer Science\n",
    "* Mathematics\n",
    "* Statistics and Probability\n",
    "* Machine Learning\n",
    "* Domain Knowledge in which you want to use data science\n",
    "* Data Visualization\n",
    "* Convey the insights you extract from data to non-technical persons in a way that they can understand it easily\n",
    "\n"
   ]
  }
 ],
 "metadata": {
  "language_info": {
   "name": "python"
  },
  "orig_nbformat": 4
 },
 "nbformat": 4,
 "nbformat_minor": 2
}
