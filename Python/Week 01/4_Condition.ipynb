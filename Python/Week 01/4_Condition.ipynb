{
 "cells": [
  {
   "attachments": {},
   "cell_type": "markdown",
   "metadata": {},
   "source": [
    "# **Control Structures**\n",
    "* Control Structure is a block code that analyze variables and run instructions based on given parameters.\n",
    "* Control Structures are the decisions made by the computer."
   ]
  },
  {
   "attachments": {},
   "cell_type": "markdown",
   "metadata": {},
   "source": [
    "---"
   ]
  },
  {
   "attachments": {},
   "cell_type": "markdown",
   "metadata": {},
   "source": [
    "### **1. Conditional Statements**\n",
    "In Python, conditional statements are used to execute different code depending on whether a condition is true or false. Following are the conditional statements:\n",
    "* **if** - Used to execute a block of code if a condition is true.\n",
    "* **elif** - Used to execute a block of code if a condition is true and if the previous condition is false.\n",
    "* **else** - Used to execute a block of code if all the previous conditions are false."
   ]
  },
  {
   "cell_type": "code",
   "execution_count": 1,
   "metadata": {},
   "outputs": [
    {
     "name": "stdout",
     "output_type": "stream",
     "text": [
      "x is greater than y\n"
     ]
    }
   ],
   "source": [
    "# if statement\n",
    "\n",
    "# Let's create variables\n",
    "x = 6\n",
    "y = 3\n",
    "\n",
    "# Use if statement\n",
    "if x > y:\n",
    "  print('x is greater than y')"
   ]
  },
  {
   "cell_type": "code",
   "execution_count": 2,
   "metadata": {},
   "outputs": [
    {
     "name": "stdout",
     "output_type": "stream",
     "text": [
      "b is greater than a\n"
     ]
    }
   ],
   "source": [
    "# elif statment --> if-elif\n",
    "\n",
    "# create variable\n",
    "a = 4\n",
    "b = 10\n",
    "\n",
    "# Use of elif statement\n",
    "if a > b:\n",
    "    print('a is greater than b')\n",
    "elif b > a:\n",
    "    print(\"b is greater than a\")"
   ]
  },
  {
   "cell_type": "code",
   "execution_count": 3,
   "metadata": {},
   "outputs": [
    {
     "name": "stdout",
     "output_type": "stream",
     "text": [
      "f is greater than e\n"
     ]
    }
   ],
   "source": [
    "# else statement\n",
    "\n",
    "# create variables\n",
    "e = 5\n",
    "f = 9\n",
    "\n",
    "# use of else statement\n",
    "if e > f:\n",
    "    print(\"e is greater than f\")\n",
    "elif f == e:\n",
    "    print(\"e is equal to f\")\n",
    "else:\n",
    "    print('f is greater than e')"
   ]
  },
  {
   "cell_type": "code",
   "execution_count": 2,
   "metadata": {},
   "outputs": [
    {
     "name": "stdout",
     "output_type": "stream",
     "text": [
      "A+\n"
     ]
    }
   ],
   "source": [
    "# Take input from user using input() function\n",
    "# Based on the input tell users their grade\n",
    "\n",
    "percentage = int(input(\"Enter your percentage\"))\n",
    "if percentage >= 95:\n",
    "    print(\"A+\")\n",
    "elif percentage >= 90:\n",
    "    print(\"A\")\n",
    "elif percentage >= 85:\n",
    "    print('B+')\n",
    "elif percentage >= 80:\n",
    "    print('B')\n",
    "elif percentage >= 75:\n",
    "    print('C+')\n",
    "elif percentage >= 70:\n",
    "    print('C')\n",
    "elif percentage >= 65:\n",
    "    print('D')\n",
    "elif percentage >= 50:\n",
    "    print('F')\n",
    "else:\n",
    "    print(\"Next time try hard\")\n",
    "    "
   ]
  },
  {
   "attachments": {},
   "cell_type": "markdown",
   "metadata": {},
   "source": [
    "### **2. Loops**\n",
    "Loops in Python are used to repeat a block of code untill a certain condition is met. There are two types of loops in python:\n",
    "* **For Loop** - A for loop is used to iterate over a sequence, such as list, string, tuple, set, etc.\n",
    "* **While Loop** - A while loop is used to repeat a block of code as long as a certain condition is met."
   ]
  },
  {
   "cell_type": "code",
   "execution_count": 3,
   "metadata": {},
   "outputs": [
    {
     "name": "stdout",
     "output_type": "stream",
     "text": [
      "P\n",
      "y\n",
      "t\n",
      "h\n",
      "o\n",
      "n\n"
     ]
    }
   ],
   "source": [
    "# For Loop\n",
    "\n",
    "# Looping through a string using for loop\n",
    "z = \"Python\"\n",
    "for i in z:\n",
    "    print(i)\n"
   ]
  },
  {
   "cell_type": "code",
   "execution_count": 5,
   "metadata": {},
   "outputs": [
    {
     "name": "stdout",
     "output_type": "stream",
     "text": [
      "1\n",
      "2\n",
      "3\n",
      "Hello World!\n",
      "6.78\n",
      "(3+9j)\n",
      "True\n",
      "This else part is executed when the for loop completed successfully\n"
     ]
    }
   ],
   "source": [
    "# For loop with else\n",
    "\n",
    "l = [1, 2, 3, \"Hello World!\", 6.78, 3 + 9j, True]\n",
    "\n",
    "for i in l:\n",
    "    print(i)\n",
    "else:\n",
    "    print(\"This else part is executed when the for loop completed successfully\")"
   ]
  },
  {
   "cell_type": "code",
   "execution_count": 6,
   "metadata": {},
   "outputs": [
    {
     "name": "stdout",
     "output_type": "stream",
     "text": [
      "<class 'int'>\n",
      "<class 'int'>\n",
      "<class 'int'>\n",
      "<class 'str'>\n",
      "<class 'float'>\n",
      "<class 'complex'>\n",
      "<class 'bool'>\n"
     ]
    }
   ],
   "source": [
    "# Print the the data type of each element in \"l\" using for loop\n",
    "\n",
    "for i in l:\n",
    "    print(type(i))"
   ]
  },
  {
   "cell_type": "code",
   "execution_count": 7,
   "metadata": {},
   "outputs": [
    {
     "name": "stdout",
     "output_type": "stream",
     "text": [
      "1\n",
      "2\n",
      "3\n",
      "4\n",
      "5\n",
      "6\n",
      "7\n",
      "8\n",
      "9\n"
     ]
    }
   ],
   "source": [
    "# While Loop\n",
    "\n",
    "x = 1\n",
    "while x < 10:\n",
    "    print(x)\n",
    "    x = x + 1"
   ]
  },
  {
   "cell_type": "code",
   "execution_count": 9,
   "metadata": {},
   "outputs": [
    {
     "name": "stdout",
     "output_type": "stream",
     "text": [
      "10\n",
      "9\n",
      "8\n",
      "7\n",
      "6\n",
      "5\n",
      "4\n",
      "3\n",
      "2\n",
      "1\n",
      "When while loop is executed successfully only then the else block is executed\n"
     ]
    }
   ],
   "source": [
    "# While loop with else\n",
    "\n",
    "y = 10\n",
    "while y > 0:\n",
    "    print(y)\n",
    "    y = y -1\n",
    "else:\n",
    "    print(\"When while loop is executed successfully only then the else block is executed\")"
   ]
  },
  {
   "cell_type": "code",
   "execution_count": null,
   "metadata": {},
   "outputs": [],
   "source": []
  }
 ],
 "metadata": {
  "kernelspec": {
   "display_name": "Python 3",
   "language": "python",
   "name": "python3"
  },
  "language_info": {
   "codemirror_mode": {
    "name": "ipython",
    "version": 3
   },
   "file_extension": ".py",
   "mimetype": "text/x-python",
   "name": "python",
   "nbconvert_exporter": "python",
   "pygments_lexer": "ipython3",
   "version": "3.11.1"
  },
  "orig_nbformat": 4
 },
 "nbformat": 4,
 "nbformat_minor": 2
}
