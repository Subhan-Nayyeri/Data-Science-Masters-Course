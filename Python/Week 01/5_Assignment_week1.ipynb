{
 "cells": [
  {
   "attachments": {},
   "cell_type": "markdown",
   "metadata": {},
   "source": [
    "# **Assignment - Week 01: Python Basic Building**"
   ]
  },
  {
   "attachments": {},
   "cell_type": "markdown",
   "metadata": {},
   "source": [
    "---"
   ]
  },
  {
   "attachments": {},
   "cell_type": "markdown",
   "metadata": {},
   "source": [
    "Q1. Create one variable containing following type of data: \n",
    "* string \n",
    "* list \n",
    "* float \n",
    "* tuple \n"
   ]
  },
  {
   "cell_type": "code",
   "execution_count": 1,
   "metadata": {},
   "outputs": [],
   "source": [
    "# String variable\n",
    "str_var = \"Data Science Masters Course\"\n",
    "\n",
    "# List variable\n",
    "list_var = [1, 6.8, 5 + 7j, 'Hello World!', True ]\n",
    "\n",
    "# float variable\n",
    "float_var = 5.98\n",
    "\n",
    "# Tuple variable\n",
    "tuple_var = (1, 6.8, 5 + 7j, 'Hello World!', True )"
   ]
  },
  {
   "attachments": {},
   "cell_type": "markdown",
   "metadata": {},
   "source": [
    "Q2. Given are some following variables containing data: \n",
    "* var1 = ‘ ‘ \n",
    "* var2 = ‘[ DS , ML , Python]’ \n",
    "* var3 = [ ‘DS’ , ’ML’ , ‘Python’ ] \n",
    "* var4 = 1. \n",
    "What will be the data type of the above given variable. "
   ]
  },
  {
   "cell_type": "code",
   "execution_count": 3,
   "metadata": {},
   "outputs": [
    {
     "name": "stdout",
     "output_type": "stream",
     "text": [
      "<class 'str'>\n",
      "<class 'str'>\n",
      "<class 'list'>\n",
      "<class 'int'>\n"
     ]
    }
   ],
   "source": [
    "# First create variables\n",
    "\n",
    "var1 = '' \n",
    "var2 = '[ DS , ML , Python]'\n",
    "var3 = [ 'DS' , 'ML' , 'Python' ] \n",
    "var4 = 1\n",
    "\n",
    "# Now print the data type of each variable\n",
    "print(type(var1))\n",
    "print(type(var2))\n",
    "print(type(var3))\n",
    "print(type(var4))"
   ]
  },
  {
   "attachments": {},
   "cell_type": "markdown",
   "metadata": {},
   "source": [
    "Q3. Explain the use of the following operators using an example: \n",
    "* ( / ) \n",
    "* ( % )  \n",
    "* ( // ) \n",
    "* (**)\n"
   ]
  },
  {
   "cell_type": "code",
   "execution_count": 4,
   "metadata": {},
   "outputs": [
    {
     "name": "stdout",
     "output_type": "stream",
     "text": [
      "3.3333333333333335\n",
      "1\n",
      "3\n",
      "1000\n"
     ]
    }
   ],
   "source": [
    "# Division operator(/) divides the first operand by the second operand.\n",
    "print(10 / 3)\n",
    "\n",
    "# Modulus operator(%) returns the remainder of the division.\n",
    "print(10 % 3)\n",
    "\n",
    "# Division Floar(//) divides the first operand by the second operand and rounds down the result to the nearest integer\n",
    "print(10 // 3)\n",
    "\n",
    "# Exponent operator(**) raises the first operand to the power of the second operand. \n",
    "print(10 ** 3)"
   ]
  },
  {
   "attachments": {},
   "cell_type": "markdown",
   "metadata": {},
   "source": [
    "Q4. Create a list of length 10 of your choice containing multiple types of data. Using for loop print the  element and its data type. "
   ]
  },
  {
   "cell_type": "code",
   "execution_count": 5,
   "metadata": {},
   "outputs": [
    {
     "name": "stdout",
     "output_type": "stream",
     "text": [
      "<class 'int'>\n",
      "<class 'float'>\n",
      "<class 'complex'>\n",
      "<class 'str'>\n",
      "<class 'bool'>\n",
      "<class 'bool'>\n",
      "<class 'tuple'>\n",
      "<class 'list'>\n",
      "<class 'int'>\n",
      "<class 'float'>\n"
     ]
    }
   ],
   "source": [
    "# First create the list of 10 containing different data types\n",
    "l1 = [23, 5.67, 6 + 7j, 'subhan', True, False, (1, 2, 3), ['a', 'b', 'c'], 455, 3.09]\n",
    "\n",
    "# using for loop to print the data types of all elements in \"l1\"\n",
    "for i in l1:\n",
    "    print(type(i))"
   ]
  },
  {
   "attachments": {},
   "cell_type": "markdown",
   "metadata": {},
   "source": [
    "Q5. Using a while loop, verify if the number A is purely divisible by number B and if so then how many  times it can be divisible. "
   ]
  },
  {
   "cell_type": "code",
   "execution_count": 8,
   "metadata": {},
   "outputs": [
    {
     "name": "stdout",
     "output_type": "stream",
     "text": [
      "5 is divisible by 2 ,1 times.\n"
     ]
    }
   ],
   "source": [
    "# Take numbers from the user using input\n",
    "A = int(input(\"Enter your 1st number: \"))\n",
    "B = int(input(\"Enter your 2nd number: \"))\n",
    "\n",
    "# Create a variable \"count\" and set it to 0.\n",
    "# It will keep track of how many times 'A' can be divided by 'B'.\n",
    "count = 0\n",
    "\n",
    "# While Loop\n",
    "# This condition A % B == 0 checks if the remainder of A divided by B is 0,\n",
    "# which means A is divisible by B.\n",
    "while A % B == 0:\n",
    "    count = count + 1\n",
    "    A = A // B  # Use integer division instead of regular division\n",
    "\n",
    "# Print the result\n",
    "print(str(A) + \" is divisible by \" + str(B) + \" ,\" + str(count) + \" times.\")\n"
   ]
  },
  {
   "attachments": {},
   "cell_type": "markdown",
   "metadata": {},
   "source": [
    "Q6. Create a list containing 25 int type data. Using for loop and if-else condition print if the element is  divisible by 3 or not"
   ]
  },
  {
   "cell_type": "code",
   "execution_count": 9,
   "metadata": {},
   "outputs": [
    {
     "name": "stdout",
     "output_type": "stream",
     "text": [
      "1 is not divisible by 3\n",
      "2 is not divisible by 3\n",
      "3 is divisible by 3\n",
      "4 is not divisible by 3\n",
      "5 is not divisible by 3\n",
      "6 is divisible by 3\n",
      "7 is not divisible by 3\n",
      "8 is not divisible by 3\n",
      "9 is divisible by 3\n",
      "9 is divisible by 3\n",
      "8 is not divisible by 3\n",
      "7 is not divisible by 3\n",
      "6 is divisible by 3\n",
      "5 is not divisible by 3\n",
      "4 is not divisible by 3\n",
      "3 is divisible by 3\n",
      "2 is not divisible by 3\n",
      "1 is not divisible by 3\n",
      "21 is divisible by 3\n",
      "24 is divisible by 3\n",
      "30 is divisible by 3\n",
      "15 is divisible by 3\n",
      "27 is divisible by 3\n",
      "33 is divisible by 3\n",
      "73 is not divisible by 3\n"
     ]
    }
   ],
   "source": [
    "# First create a list of 25 int data \n",
    "int_list = [ 1,2,3,4,5,6,7,8,9,9,8,7,6,5,4,3,2,1,21,24,30,15,27,33,73 ]\n",
    "\n",
    "for i in int_list:\n",
    "    if i % 3 == 0:\n",
    "        print(str(i) + \" is divisible by 3\")\n",
    "    else:\n",
    "        print(str(i) + \" is not divisible by 3\")"
   ]
  },
  {
   "attachments": {},
   "cell_type": "markdown",
   "metadata": {},
   "source": [
    "Q7. What do you understand about mutable and immutable data types? Give examples for both showing  this property.  "
   ]
  },
  {
   "attachments": {},
   "cell_type": "markdown",
   "metadata": {},
   "source": [
    "In Python, \n",
    "* **Mutable** data types can be changed after they're created. e.g, list, dictionary, set etc.\n",
    "* **Immutable** data types cannot be changed after they are created. e.g, string, tuple, frozenset etc."
   ]
  },
  {
   "attachments": {},
   "cell_type": "markdown",
   "metadata": {},
   "source": [
    ">Mutable Data Types"
   ]
  },
  {
   "cell_type": "code",
   "execution_count": 6,
   "metadata": {},
   "outputs": [],
   "source": [
    "# first create a mutable data type variable\n",
    "mut_list = [1, 5, 8, 'hello']"
   ]
  },
  {
   "cell_type": "code",
   "execution_count": 8,
   "metadata": {},
   "outputs": [
    {
     "name": "stdout",
     "output_type": "stream",
     "text": [
      "[1, 5, 8, (9+5j)]\n"
     ]
    }
   ],
   "source": [
    "# try to change the above data type variable elements\n",
    "mut_list[3] = 9 + 5j\n",
    "\n",
    "# now check weather it is changed or not\n",
    "print(mut_list)"
   ]
  },
  {
   "cell_type": "code",
   "execution_count": null,
   "metadata": {},
   "outputs": [],
   "source": [
    "# as you can see after creating it can be changed"
   ]
  },
  {
   "attachments": {},
   "cell_type": "markdown",
   "metadata": {},
   "source": [
    ">Immutable Data Type"
   ]
  },
  {
   "cell_type": "code",
   "execution_count": 9,
   "metadata": {},
   "outputs": [],
   "source": [
    "# first create an immutable data type variable\n",
    "immut_str = \"Python\""
   ]
  },
  {
   "cell_type": "code",
   "execution_count": 10,
   "metadata": {},
   "outputs": [
    {
     "ename": "TypeError",
     "evalue": "'str' object does not support item assignment",
     "output_type": "error",
     "traceback": [
      "\u001b[1;31m---------------------------------------------------------------------------\u001b[0m",
      "\u001b[1;31mTypeError\u001b[0m                                 Traceback (most recent call last)",
      "Cell \u001b[1;32mIn[10], line 2\u001b[0m\n\u001b[0;32m      1\u001b[0m \u001b[39m# try to change the above data type variable elements\u001b[39;00m\n\u001b[1;32m----> 2\u001b[0m immut_str[\u001b[39m3\u001b[39;49m] \u001b[39m=\u001b[39m \u001b[39m'\u001b[39m\u001b[39mo\u001b[39m\u001b[39m'\u001b[39m\n\u001b[0;32m      4\u001b[0m \u001b[39m# now check weather it is changed or not\u001b[39;00m\n\u001b[0;32m      5\u001b[0m \u001b[39mprint\u001b[39m(immut_str)\n",
      "\u001b[1;31mTypeError\u001b[0m: 'str' object does not support item assignment"
     ]
    }
   ],
   "source": [
    "# try to change the above data type variable elements\n",
    "immut_str[3] = 'o'\n",
    "\n",
    "# now check weather it is changed or not\n",
    "print(immut_str)"
   ]
  },
  {
   "cell_type": "code",
   "execution_count": 11,
   "metadata": {},
   "outputs": [],
   "source": [
    "# as you can see after creating immutable data type variable it cannot be changed\n",
    "# if you try to change it, Python gives you error "
   ]
  },
  {
   "cell_type": "code",
   "execution_count": null,
   "metadata": {},
   "outputs": [],
   "source": []
  }
 ],
 "metadata": {
  "kernelspec": {
   "display_name": "Python 3",
   "language": "python",
   "name": "python3"
  },
  "language_info": {
   "codemirror_mode": {
    "name": "ipython",
    "version": 3
   },
   "file_extension": ".py",
   "mimetype": "text/x-python",
   "name": "python",
   "nbconvert_exporter": "python",
   "pygments_lexer": "ipython3",
   "version": "3.11.1"
  },
  "orig_nbformat": 4
 },
 "nbformat": 4,
 "nbformat_minor": 2
}
