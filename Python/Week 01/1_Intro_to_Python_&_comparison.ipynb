{
 "cells": [
  {
   "attachments": {},
   "cell_type": "markdown",
   "metadata": {},
   "source": [
    "# **Introduction of Python**"
   ]
  },
  {
   "attachments": {},
   "cell_type": "markdown",
   "metadata": {},
   "source": [
    "---"
   ]
  },
  {
   "attachments": {},
   "cell_type": "markdown",
   "metadata": {},
   "source": [
    "## **1. Python**"
   ]
  },
  {
   "attachments": {},
   "cell_type": "markdown",
   "metadata": {},
   "source": [
    "* Python is a programming language that is known for its **simplicity, readability, and versatility.**\n",
    "\n",
    "* It's an **interpreted, high-level, and general-purpose language.**\n",
    "\n",
    "* Python is also a popular choice for beginners, as it is relatively **easy to learn**."
   ]
  },
  {
   "attachments": {},
   "cell_type": "markdown",
   "metadata": {},
   "source": [
    "##### **_Important Concepts:_**\n",
    "* _**Interpreted Language**:_\n",
    "\n",
    "   * Python is an interpreted language, which means that when you write Python code, it doesn't get translated into a language that a computer can directly understand. Instead, the Python code is interpreted, or executed, line by line by a program called the Python interpreter.\n",
    "\n",
    "   * For Example, you're in a foreign country where you don't speak the language. You have a translator with you who can interpret what people are saying and tell you what they mean in a language you do understand. Similarly, the Python interpreter is like a translator that takes your Python code and interprets it, or translates it, into instructions that the computer can execute.\n",
    "\n",
    "* _**High-Level Language**_\n",
    "  \n",
    "  * A high-level language is a programming language that is designed to be easy for humans to read and write. It is in contrast to low-level languages, which are designed to be easy for computers to understand.\n",
    "  \n",
    "  * High-level languages are typically written in a way that is similar to human language. This makes them easier for humans to understand and read. For example, high-level languages typically use words and symbols that are familiar to humans, such as \"if,\" \"while,\" and \"for.\"\n",
    "  \n",
    "  * Low-level languages, on the other hand, are written in a way that is very different from human language. They use symbols and codes that are designed to be easy for computers to understand. For example, a low-level language might use the symbol \"01010101\" to represent the number 1.\n",
    "  \n",
    "* **_General-Purpose Language_**\n",
    "\n",
    "  * A general-purpose language is a programming language that can be used for a variety of tasks. This is in contrast to a specialized language, which is designed for a specific task, such as web development or data science. Python is a general-purpose language. It can be used for a variety of tasks, including:\n",
    "  \n",
    "   * Web development\n",
    "   * Data science\n",
    "   * Machine learning\n",
    "   * Artificial intelligence\n",
    "   * Scientific computing\n",
    "   * Software development\n",
    "   * Automation\n",
    "  "
   ]
  },
  {
   "attachments": {},
   "cell_type": "markdown",
   "metadata": {},
   "source": [
    "## **2. Uses of Python in different fields**"
   ]
  },
  {
   "attachments": {},
   "cell_type": "markdown",
   "metadata": {},
   "source": [
    "Python is often used for: \n",
    "* Data Science \n",
    "  \n",
    "* Machine Learning\n",
    "  \n",
    "* Artificial Intelligence\n",
    "  \n",
    "* Game Development\n",
    "  \n",
    "* GUI Application\n",
    "  \n",
    "* Web Development\n",
    "  \n",
    "* Robotics\n",
    "  \n",
    "* Automation\n",
    "  \n",
    "* Numeric/Scientific Computation\n",
    "  \n",
    "* Database\n",
    "  \n",
    "* Web Scraping\n",
    "\n"
   ]
  },
  {
   "attachments": {},
   "cell_type": "markdown",
   "metadata": {},
   "source": [
    "## **3. Advantages of Python**\n",
    "\n",
    "* **Easy to learn:** Python is a very easy language to learn, even for beginners. It has a simple syntax that is similar to English, and it is not as complex as other languages like Java or C++.\n",
    "\n",
    "* **Versatile:** Python is a versatile language that can be used for a variety of tasks, including web development, data science, machine learning, and artificial intelligence.\n",
    "\n",
    "* **Portable:** Python is a portable language that can be used on a variety of platforms, including Windows, Mac, and Linux.\n",
    "\n",
    "* **Free and open source:** Python is a free and open source language, which means that it is free to use and modify. There is a large community of developers who contribute to Python, which means that there are many resources available online and in libraries."
   ]
  },
  {
   "attachments": {},
   "cell_type": "markdown",
   "metadata": {},
   "source": [
    "## **4. Where we execute Python Code**\n",
    "\n",
    "* VSCode\n",
    "  \n",
    "* Jupyter notebook\n",
    "  \n",
    "* Atom\n",
    "  \n",
    "* Sublime Text\n",
    "  \n",
    "* Google Colab\n",
    "  \n",
    "* PyCharm"
   ]
  },
  {
   "attachments": {},
   "cell_type": "markdown",
   "metadata": {},
   "source": [
    "## **5. Python File Extensions**\n",
    "\n",
    "* Python file --> **.py**\n",
    "  \n",
    "* Jupyter notebook file --> **.ipynb**"
   ]
  },
  {
   "attachments": {},
   "cell_type": "markdown",
   "metadata": {},
   "source": [
    "## **6. Execute some basic python code**"
   ]
  },
  {
   "cell_type": "code",
   "execution_count": 1,
   "metadata": {},
   "outputs": [
    {
     "data": {
      "text/plain": [
       "3"
      ]
     },
     "execution_count": 1,
     "metadata": {},
     "output_type": "execute_result"
    }
   ],
   "source": [
    "1 + 2"
   ]
  },
  {
   "cell_type": "code",
   "execution_count": 2,
   "metadata": {},
   "outputs": [
    {
     "data": {
      "text/plain": [
       "-2"
      ]
     },
     "execution_count": 2,
     "metadata": {},
     "output_type": "execute_result"
    }
   ],
   "source": [
    "4 - 6"
   ]
  }
 ],
 "metadata": {
  "kernelspec": {
   "display_name": "Python 3",
   "language": "python",
   "name": "python3"
  },
  "language_info": {
   "codemirror_mode": {
    "name": "ipython",
    "version": 3
   },
   "file_extension": ".py",
   "mimetype": "text/x-python",
   "name": "python",
   "nbconvert_exporter": "python",
   "pygments_lexer": "ipython3",
   "version": "3.11.1"
  },
  "orig_nbformat": 4
 },
 "nbformat": 4,
 "nbformat_minor": 2
}
