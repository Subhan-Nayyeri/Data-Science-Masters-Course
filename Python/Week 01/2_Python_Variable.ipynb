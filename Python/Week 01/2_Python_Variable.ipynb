{
 "cells": [
  {
   "attachments": {},
   "cell_type": "markdown",
   "metadata": {},
   "source": [
    "# **Python Variables**"
   ]
  },
  {
   "attachments": {},
   "cell_type": "markdown",
   "metadata": {},
   "source": [
    "---"
   ]
  },
  {
   "attachments": {},
   "cell_type": "markdown",
   "metadata": {},
   "source": [
    "## **1. Variable**\n",
    "* A variable is a container that _**holds/stores**_ a value.\n",
    "* In Python, variables are created by _**assigning a value**_ to a name using assignment operator."
   ]
  },
  {
   "cell_type": "code",
   "execution_count": 1,
   "metadata": {},
   "outputs": [],
   "source": [
    "# For Example, the following code creates a variable called \"my_name\"\n",
    "# and assigns the value \"John\" to it\n",
    "# Using assignment operator (=)\n",
    "my_name = \"Subhan\""
   ]
  },
  {
   "cell_type": "code",
   "execution_count": 2,
   "metadata": {},
   "outputs": [
    {
     "data": {
      "text/plain": [
       "'Subhan'"
      ]
     },
     "execution_count": 2,
     "metadata": {},
     "output_type": "execute_result"
    }
   ],
   "source": [
    "# Once variable is created, you can refer to the value by using its name\n",
    "my_name"
   ]
  },
  {
   "cell_type": "code",
   "execution_count": 3,
   "metadata": {},
   "outputs": [],
   "source": [
    "# After creating the variable you can change its value whenever you want\n",
    "# Now we change the value of variable (my_name) from \"Subhan\" to \"Muhammad Subhan\"\n",
    "# Previous value(\"Subhan\") is over-written by new value(\"Muhammad Subhan\")\n",
    "my_name = \"Muhammad Subhan\""
   ]
  },
  {
   "attachments": {},
   "cell_type": "markdown",
   "metadata": {},
   "source": [
    "##### _**Why we use variable?**_\n",
    "* Variables can be used to store any type of value, including strings, integer, float, lists, and dictionaries.\n",
    "\n",
    "* You can also use variables to store functions and objects."
   ]
  },
  {
   "attachments": {},
   "cell_type": "markdown",
   "metadata": {},
   "source": [
    "##### _**Variable Naming Rules**_\n",
    "* Variable name should be start from \n",
    "  \n",
    "* It must not be started from numbers (0-9)\n",
    "  \n",
    "* It contains alpha-numeric (A-Z, a-z, 0-9) characters and underscore\n",
    "  \n",
    "* Spaces are not allowed in a variable name instead use undescore\n",
    "  \n",
    "* Variable names are case-sensitive. e.g AGE, age, Age are not same variables.\n",
    "\n"
   ]
  },
  {
   "attachments": {},
   "cell_type": "markdown",
   "metadata": {},
   "source": [
    "##### _**Python is Self-Typed Language**_\n",
    "* It means we don't need tell Python the data type of a variable while creating it.\n",
    "\n",
    "* Python automatically understand the data type of a variable. "
   ]
  },
  {
   "attachments": {},
   "cell_type": "markdown",
   "metadata": {},
   "source": [
    "## **2. Data Types**"
   ]
  },
  {
   "attachments": {},
   "cell_type": "markdown",
   "metadata": {},
   "source": [
    "1. **Text Data Type**\n",
    "  * _String_\n",
    "2. **Numeric Data Types**\n",
    "  * _Integer_\n",
    "  * _Float_ \n",
    "  * _Complex_ \n",
    "3. **Sequence Data Types**\n",
    "  * _List_  \n",
    "  * _Tuple_\n",
    "  * _Range_\n",
    "4. **Mapping Data Type**\n",
    "  * _Dictionary_\n",
    "5. **Set Data Types**\n",
    "  * _Set_\n",
    "  * _Frozen set_\n",
    "6. **Boolean Data Type**\n",
    "  * _Bool_"
   ]
  },
  {
   "attachments": {},
   "cell_type": "markdown",
   "metadata": {},
   "source": [
    "---"
   ]
  },
  {
   "attachments": {},
   "cell_type": "markdown",
   "metadata": {},
   "source": [
    "1. **Text Data Type**\n",
    "  * **_String_**\n",
    "    * String is a sequence of characters enclosed within double or single quotes.\n",
    "    * You can use triple quotes for multi-line string.\n",
    "    * String is immutable means once it is created, we can't change the characters of value through item assignment."
   ]
  },
  {
   "cell_type": "code",
   "execution_count": 1,
   "metadata": {},
   "outputs": [],
   "source": [
    "# String variable\n",
    "name = 'subhan'"
   ]
  },
  {
   "attachments": {},
   "cell_type": "markdown",
   "metadata": {},
   "source": [
    "2. **Numeric Data Types**\n",
    "  * _**Integer**_\n",
    "    * An integer is a whole number, such as 1, 2, 3, etc.\n",
    "  * _**Float**_\n",
    "    * A float is a number with a decimal point, such as 2.4, 5.6 etc.\n",
    "  * _**Complex**_\n",
    "    * A complex number is a number that has both real and imaginary part, such as 2 + 6j "
   ]
  },
  {
   "cell_type": "code",
   "execution_count": 2,
   "metadata": {},
   "outputs": [],
   "source": [
    "# integer variable\n",
    "age = 23\n",
    "\n",
    "# float variable\n",
    "weight = 48.5\n",
    "\n",
    "# complex variable\n",
    "z = 4 + 9j        # for imaginary part use only \"j\""
   ]
  },
  {
   "attachments": {},
   "cell_type": "markdown",
   "metadata": {},
   "source": [
    "3. **Sequence Data Types**\n",
    "  * _**List**_\n",
    "    * A list is a collection of different data types with in square brackets[ ], such as [1, 'Python', 2.8] etc. \n",
    "    * List is used to store values of any data type like string, integer, float etc.\n",
    "    * List is mutable means once it is created, we can change the characters of value through item assignment.\n",
    "  * _**Tuple**_\n",
    "    * A tuple is same like list but it is immutable means once it is created, we can't change the characters of value through item assignment. e.g (9, 0.89, 'fruit')\n",
    "  * _**Range**_\n",
    "    * A range is a sequence of numbers that can be used to iterate over a set of values. e.g range(10) it can generate numbers from 0 to 9."
   ]
  },
  {
   "cell_type": "code",
   "execution_count": null,
   "metadata": {},
   "outputs": [],
   "source": [
    "# List variable\n",
    "my_list = [\"Hello World!\", 210, 6.78, True]\n",
    "\n",
    "# Tuple variable\n",
    "my_tuple = (1, False, \"Hi\", 34.8)\n",
    "\n",
    "# Range variable\n",
    "my_range = range(10)"
   ]
  },
  {
   "attachments": {},
   "cell_type": "markdown",
   "metadata": {},
   "source": [
    "4. **Mapping Data Type**\n",
    "  * _**Dictionary**_\n",
    "    * Dictionaries are unordered collections of key-value pairs. e.g, {\"name\" : \"subhan\", \"age\" : 23} etc."
   ]
  },
  {
   "cell_type": "code",
   "execution_count": 3,
   "metadata": {},
   "outputs": [],
   "source": [
    "# Dictionary variable\n",
    "my_dict = {\"brand\" : \"Ford\", \"model\" : \"Mustang\", \"year\" : 1994}"
   ]
  },
  {
   "attachments": {},
   "cell_type": "markdown",
   "metadata": {},
   "source": [
    "5. **Set Data Types**\n",
    "  * _**Set**_\n",
    "    * Sets are unordered unordered collections of unique objects. e.g, {1, 2, 3}.\n",
    "  \n",
    "  * _**Frozen set**_\n",
    "    * Frozen sets are sets that can't be changed. e.g, ({1, 2, 3})"
   ]
  },
  {
   "cell_type": "code",
   "execution_count": 4,
   "metadata": {},
   "outputs": [],
   "source": [
    "# Set variable\n",
    "my_set = (1,2,3,4,5,6,7)\n",
    "\n",
    "# Frozenset variable\n",
    "my_frozen_set = frozenset((1,2,3,4,5,6,7))"
   ]
  },
  {
   "attachments": {},
   "cell_type": "markdown",
   "metadata": {},
   "source": [
    "6. **Boolean Data Type**\n",
    "  * _**Bool**_\n",
    "    * Booleans (bool) can be either True or False."
   ]
  },
  {
   "cell_type": "code",
   "execution_count": 5,
   "metadata": {},
   "outputs": [],
   "source": [
    "# Boolean variable\n",
    "is_raining_outside = True"
   ]
  }
 ],
 "metadata": {
  "kernelspec": {
   "display_name": "Python 3",
   "language": "python",
   "name": "python3"
  },
  "language_info": {
   "codemirror_mode": {
    "name": "ipython",
    "version": 3
   },
   "file_extension": ".py",
   "mimetype": "text/x-python",
   "name": "python",
   "nbconvert_exporter": "python",
   "pygments_lexer": "ipython3",
   "version": "3.11.1"
  },
  "orig_nbformat": 4
 },
 "nbformat": 4,
 "nbformat_minor": 2
}
