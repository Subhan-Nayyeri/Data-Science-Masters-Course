{
 "cells": [
  {
   "attachments": {},
   "cell_type": "markdown",
   "metadata": {},
   "source": [
    "# **Python Operators**"
   ]
  },
  {
   "attachments": {},
   "cell_type": "markdown",
   "metadata": {},
   "source": [
    "Following are the python operators:\n",
    "1. _Arithmetic operators_\n",
    "2. _Comparison operators_\n",
    "3. _Logical operators_\n",
    "4. _Identity operators_\n",
    "5. _Membership operators_\n",
    "6. _Bitwise operators_"
   ]
  },
  {
   "attachments": {},
   "cell_type": "markdown",
   "metadata": {},
   "source": [
    "---"
   ]
  },
  {
   "attachments": {},
   "cell_type": "markdown",
   "metadata": {},
   "source": [
    "### **1. Arithmetic operator**\n",
    "Arithmetic operators are used to perform mathematical operations on numbers. Following are the arithmetic operators:\n",
    "* Addition (+)\n",
    "* Subtraction (-)\n",
    "* Multiplication (*)\n",
    "* Division (/)\n",
    "* Modulus (%)\n",
    "* Exponent (**)\n",
    "* Division Floar (//)\n",
    "\n"
   ]
  },
  {
   "cell_type": "code",
   "execution_count": 2,
   "metadata": {},
   "outputs": [
    {
     "data": {
      "text/plain": [
       "10"
      ]
     },
     "execution_count": 2,
     "metadata": {},
     "output_type": "execute_result"
    }
   ],
   "source": [
    "# Addition operator\n",
    "8 + 2"
   ]
  },
  {
   "cell_type": "code",
   "execution_count": 3,
   "metadata": {},
   "outputs": [
    {
     "data": {
      "text/plain": [
       "6"
      ]
     },
     "execution_count": 3,
     "metadata": {},
     "output_type": "execute_result"
    }
   ],
   "source": [
    "# Subtraction operator\n",
    "8 - 2"
   ]
  },
  {
   "cell_type": "code",
   "execution_count": 4,
   "metadata": {},
   "outputs": [
    {
     "data": {
      "text/plain": [
       "16"
      ]
     },
     "execution_count": 4,
     "metadata": {},
     "output_type": "execute_result"
    }
   ],
   "source": [
    "# Multiplication operator\n",
    "8 * 2"
   ]
  },
  {
   "cell_type": "code",
   "execution_count": 5,
   "metadata": {},
   "outputs": [
    {
     "data": {
      "text/plain": [
       "4.0"
      ]
     },
     "execution_count": 5,
     "metadata": {},
     "output_type": "execute_result"
    }
   ],
   "source": [
    "# Division operator\n",
    "8 / 2"
   ]
  },
  {
   "cell_type": "code",
   "execution_count": 6,
   "metadata": {},
   "outputs": [
    {
     "data": {
      "text/plain": [
       "0"
      ]
     },
     "execution_count": 6,
     "metadata": {},
     "output_type": "execute_result"
    }
   ],
   "source": [
    "# Modulus/remainder operator\n",
    "8 % 2"
   ]
  },
  {
   "cell_type": "code",
   "execution_count": 7,
   "metadata": {},
   "outputs": [
    {
     "data": {
      "text/plain": [
       "64"
      ]
     },
     "execution_count": 7,
     "metadata": {},
     "output_type": "execute_result"
    }
   ],
   "source": [
    "# Exponent/Power operator\n",
    "8 ** 2"
   ]
  },
  {
   "cell_type": "code",
   "execution_count": 8,
   "metadata": {},
   "outputs": [
    {
     "data": {
      "text/plain": [
       "4"
      ]
     },
     "execution_count": 8,
     "metadata": {},
     "output_type": "execute_result"
    }
   ],
   "source": [
    "# Division Floar\n",
    "8 // 2"
   ]
  },
  {
   "attachments": {},
   "cell_type": "markdown",
   "metadata": {},
   "source": [
    ">Arithmetic operators follow PEMDAS rule \n",
    "* **P**aranthesis\n",
    "* **E**xponent\n",
    "* **M**ultiplication\n",
    "* **D**ivision\n",
    "* **A**ddition\n",
    "* **S**ubtraction"
   ]
  },
  {
   "cell_type": "code",
   "execution_count": 1,
   "metadata": {},
   "outputs": [
    {
     "data": {
      "text/plain": [
       "1.0"
      ]
     },
     "execution_count": 1,
     "metadata": {},
     "output_type": "execute_result"
    }
   ],
   "source": [
    "# Let's see how it works\n",
    "2 + (3 * 4) - 45 / 9 - 2 ** 3"
   ]
  },
  {
   "attachments": {},
   "cell_type": "markdown",
   "metadata": {},
   "source": [
    "---"
   ]
  },
  {
   "attachments": {},
   "cell_type": "markdown",
   "metadata": {},
   "source": [
    "### **2. Comparison operator**\n",
    "Comparison operator compare two values and return a boolean value which either True or False. Following are the comaprison operators:\n",
    "* _Equal to (==)_\n",
    "* _Not equal to (!=)_\n",
    "* _Greater than (>)_\n",
    "* _Greater than or equal to (>=)_\n",
    "* _Less than (<)_\n",
    "* _Less than or equal to (<=)_\n"
   ]
  },
  {
   "attachments": {},
   "cell_type": "markdown",
   "metadata": {},
   "source": [
    ">If condition is right it gives True anf if condition is wrong it gives False"
   ]
  },
  {
   "cell_type": "code",
   "execution_count": 9,
   "metadata": {},
   "outputs": [
    {
     "data": {
      "text/plain": [
       "True"
      ]
     },
     "execution_count": 9,
     "metadata": {},
     "output_type": "execute_result"
    }
   ],
   "source": [
    "# Equal to\n",
    "3 == 3"
   ]
  },
  {
   "cell_type": "code",
   "execution_count": 10,
   "metadata": {},
   "outputs": [
    {
     "data": {
      "text/plain": [
       "False"
      ]
     },
     "execution_count": 10,
     "metadata": {},
     "output_type": "execute_result"
    }
   ],
   "source": [
    "# Not equal to\n",
    "3 != 3"
   ]
  },
  {
   "cell_type": "code",
   "execution_count": 12,
   "metadata": {},
   "outputs": [
    {
     "data": {
      "text/plain": [
       "True"
      ]
     },
     "execution_count": 12,
     "metadata": {},
     "output_type": "execute_result"
    }
   ],
   "source": [
    "# Greater than\n",
    "5 > 3"
   ]
  },
  {
   "cell_type": "code",
   "execution_count": 13,
   "metadata": {},
   "outputs": [
    {
     "data": {
      "text/plain": [
       "False"
      ]
     },
     "execution_count": 13,
     "metadata": {},
     "output_type": "execute_result"
    }
   ],
   "source": [
    "# Greater than equal to\n",
    "6 >= 7"
   ]
  },
  {
   "cell_type": "code",
   "execution_count": 14,
   "metadata": {},
   "outputs": [
    {
     "data": {
      "text/plain": [
       "True"
      ]
     },
     "execution_count": 14,
     "metadata": {},
     "output_type": "execute_result"
    }
   ],
   "source": [
    "# Less than \n",
    "8 < 10"
   ]
  },
  {
   "cell_type": "code",
   "execution_count": 15,
   "metadata": {},
   "outputs": [
    {
     "data": {
      "text/plain": [
       "False"
      ]
     },
     "execution_count": 15,
     "metadata": {},
     "output_type": "execute_result"
    }
   ],
   "source": [
    "# Less than equal to\n",
    "7 <= 6"
   ]
  },
  {
   "attachments": {},
   "cell_type": "markdown",
   "metadata": {},
   "source": [
    "---"
   ]
  },
  {
   "attachments": {},
   "cell_type": "markdown",
   "metadata": {},
   "source": [
    "### **3. Logical operators**\n",
    "Logical operators are used to combine conditional statements and return boolean values. Following are the logical operators:\n",
    "* and\n",
    "* or\n",
    "* not"
   ]
  },
  {
   "attachments": {},
   "cell_type": "markdown",
   "metadata": {},
   "source": [
    ">Internally True = 1 & False = 0"
   ]
  },
  {
   "attachments": {},
   "cell_type": "markdown",
   "metadata": {},
   "source": [
    "**Logical Table**"
   ]
  },
  {
   "attachments": {},
   "cell_type": "markdown",
   "metadata": {},
   "source": [
    "**_AND logical Table_**\\\n",
    "\\\n",
    "True and True --> True\\\n",
    "True and False --> False\\\n",
    "False and True --> False\\ \n",
    "False and False --> False\n",
    ">AND gives True when both conditions are right otherwise it gives false."
   ]
  },
  {
   "cell_type": "code",
   "execution_count": 2,
   "metadata": {},
   "outputs": [
    {
     "name": "stdout",
     "output_type": "stream",
     "text": [
      "True\n",
      "False\n",
      "False\n",
      "False\n"
     ]
    }
   ],
   "source": [
    "# AND Logical Table\n",
    "# We use print() function --> used to display the output of the code\n",
    "\n",
    "print(True and True)\n",
    "print(True and False)\n",
    "print(False and True)\n",
    "print(False and False)"
   ]
  },
  {
   "attachments": {},
   "cell_type": "markdown",
   "metadata": {},
   "source": [
    "**_OR Logical Table_**\\\n",
    "\\\n",
    "True or True --> True\\\n",
    "True or False --> True\\\n",
    "False or True --> True\\\n",
    "False or False --> False\n",
    ">OR gives True when one of the condition is right otherwise it gives false."
   ]
  },
  {
   "cell_type": "code",
   "execution_count": 3,
   "metadata": {},
   "outputs": [
    {
     "name": "stdout",
     "output_type": "stream",
     "text": [
      "True\n",
      "True\n",
      "True\n",
      "False\n"
     ]
    }
   ],
   "source": [
    "# OR Logical Table\n",
    "\n",
    "print(True or True)\n",
    "print(True or False)\n",
    "print(False or True)\n",
    "print(False or False)"
   ]
  },
  {
   "attachments": {},
   "cell_type": "markdown",
   "metadata": {},
   "source": [
    "**_NOT Logical Table_**\\\n",
    "\\\n",
    "not True --> False\\\n",
    "not False --> True\n",
    ">NOT gives the opposite of the given condition."
   ]
  },
  {
   "cell_type": "code",
   "execution_count": 4,
   "metadata": {},
   "outputs": [
    {
     "name": "stdout",
     "output_type": "stream",
     "text": [
      "False\n",
      "True\n"
     ]
    }
   ],
   "source": [
    "# NOT Logical Table\n",
    "\n",
    "print(not True)\n",
    "print(not False)"
   ]
  },
  {
   "attachments": {},
   "cell_type": "markdown",
   "metadata": {},
   "source": [
    "---"
   ]
  },
  {
   "attachments": {},
   "cell_type": "markdown",
   "metadata": {},
   "source": [
    "### **4. Identity Operators**\n",
    "Identity operators are used to compare the objects: to check weather they are same or not. Following are the identity operators:\n",
    "* is (Gives True if both objects are same)\n",
    "* is not (Gives True when both objects are not True)"
   ]
  },
  {
   "cell_type": "code",
   "execution_count": 5,
   "metadata": {},
   "outputs": [],
   "source": [
    "# First create some variables\n",
    "x = 2\n",
    "y = 2\n",
    "\n",
    "x1 = 3\n",
    "y1 = 4"
   ]
  },
  {
   "cell_type": "code",
   "execution_count": 8,
   "metadata": {},
   "outputs": [
    {
     "name": "stdout",
     "output_type": "stream",
     "text": [
      "True\n",
      "False\n"
     ]
    }
   ],
   "source": [
    "# is operator\n",
    "\n",
    "# as you can see x & y have same value '2' --> True\n",
    "print(x is y)  \n",
    "\n",
    "# as you can see x1 & y1 are not same, (x1 is y1) gives false\n",
    "print(x1 is y1)"
   ]
  },
  {
   "cell_type": "code",
   "execution_count": 7,
   "metadata": {},
   "outputs": [
    {
     "name": "stdout",
     "output_type": "stream",
     "text": [
      "False\n",
      "True\n"
     ]
    }
   ],
   "source": [
    "# is not operator\n",
    "\n",
    "# as you can see x & y have same value '2', (x is not y) gives false\n",
    "print(x is not y) \n",
    "\n",
    "# as you can see x1 & y1 are not same, (x1 is not y1) gives true\n",
    "print(x1 is not y1)"
   ]
  },
  {
   "attachments": {},
   "cell_type": "markdown",
   "metadata": {},
   "source": [
    "---"
   ]
  },
  {
   "attachments": {},
   "cell_type": "markdown",
   "metadata": {},
   "source": [
    "### **5. Membership Operators**\n",
    "Membership operators are used to check if a value is present in a sequence, such as string, list, tuple etc. Following are the membership operators:\n",
    "* in : Checks if a value is present in a sequence.\n",
    "* not in : Checks if a value is not present in a sequence."
   ]
  },
  {
   "cell_type": "code",
   "execution_count": 9,
   "metadata": {},
   "outputs": [
    {
     "name": "stdout",
     "output_type": "stream",
     "text": [
      "True\n",
      "True\n"
     ]
    }
   ],
   "source": [
    "# Create a variable\n",
    "z = 'Hello World!'\n",
    "\n",
    "# in operator\n",
    "# as you see \"H\" is present in z\n",
    "print(\"H\" in z)\n",
    "\n",
    "# not in operator\n",
    "# as you see \"s\" is not present in z\n",
    "print(\"s\" not in z)"
   ]
  },
  {
   "attachments": {},
   "cell_type": "markdown",
   "metadata": {},
   "source": [
    "___"
   ]
  },
  {
   "attachments": {},
   "cell_type": "markdown",
   "metadata": {},
   "source": [
    "### **6. Bitwise Operator**\n",
    "Bitwise operator convert numbers into binary form. Following are the bitwise operators:\n",
    "* **Bitwise AND ( & )** : First convert numbers into binary form, second perform AND operation on binary form of numbers, third convert the binary AND operation answer into number form. \n",
    "* **Bitwise OR ( | )** : First convert numbers into binary form, second perform OR operation on binary form of numbers, third convert the binary OR operation answer into number form."
   ]
  },
  {
   "attachments": {},
   "cell_type": "markdown",
   "metadata": {},
   "source": [
    ">Let's see how bitwise AND works internally"
   ]
  },
  {
   "cell_type": "code",
   "execution_count": 10,
   "metadata": {},
   "outputs": [
    {
     "data": {
      "text/plain": [
       "0"
      ]
     },
     "execution_count": 10,
     "metadata": {},
     "output_type": "execute_result"
    }
   ],
   "source": [
    "# Bitwise AND (&)\n",
    "10 & 4"
   ]
  },
  {
   "cell_type": "code",
   "execution_count": 11,
   "metadata": {},
   "outputs": [
    {
     "name": "stdout",
     "output_type": "stream",
     "text": [
      "0b1010\n",
      "0b100\n"
     ]
    }
   ],
   "source": [
    "# STEP 01: Convert 10 and 4 into binary form\n",
    "\n",
    "print(bin(10))\n",
    "print(bin(4))\n",
    "\n",
    "# so the binary form of \n",
    "# 10 = 1010\n",
    "# 4 = 100 we can also write this as '0100'"
   ]
  },
  {
   "cell_type": "code",
   "execution_count": null,
   "metadata": {},
   "outputs": [],
   "source": [
    "# STEP 02: Now perform AND operations on binary form of numbers"
   ]
  },
  {
   "attachments": {},
   "cell_type": "markdown",
   "metadata": {},
   "source": [
    "\n",
    "10 binary form| 4 binary form | AND (&) operation on binary form\n",
    "---------|----------|---------\n",
    " 1 | 0 | 0\n",
    " 0 | 1 | 0\n",
    " 1 | 0 | 0\n",
    " 0 | 0 | 0\n",
    "\n",
    "After performing AND operation on the binary form of 10 & 4 the **answer = 0000** \n",
    "as you can see in the AND column"
   ]
  },
  {
   "cell_type": "code",
   "execution_count": 12,
   "metadata": {},
   "outputs": [
    {
     "name": "stdout",
     "output_type": "stream",
     "text": [
      "0\n"
     ]
    }
   ],
   "source": [
    "# STEP 03: Now convert the answer into number/decimal/numeric form\n",
    "print(int(0000))\n",
    "\n",
    "# as you can see we get '0' same as the output of (10 & 4)"
   ]
  },
  {
   "attachments": {},
   "cell_type": "markdown",
   "metadata": {},
   "source": [
    ">Let's see how Bitwise OR ( | ) operator works internally"
   ]
  },
  {
   "cell_type": "code",
   "execution_count": 13,
   "metadata": {},
   "outputs": [
    {
     "data": {
      "text/plain": [
       "14"
      ]
     },
     "execution_count": 13,
     "metadata": {},
     "output_type": "execute_result"
    }
   ],
   "source": [
    "# Bitwise OR operator\n",
    "10 | 4"
   ]
  },
  {
   "cell_type": "code",
   "execution_count": 14,
   "metadata": {},
   "outputs": [
    {
     "name": "stdout",
     "output_type": "stream",
     "text": [
      "0b1010\n",
      "0b100\n"
     ]
    }
   ],
   "source": [
    "# STEP 01: Convert 10 and 4 into binary form\n",
    "\n",
    "print(bin(10))\n",
    "print(bin(4))\n",
    "\n",
    "# so the binary form of \n",
    "# 10 = 1010\n",
    "# 4 = 100 we can also write this as '0100'"
   ]
  },
  {
   "cell_type": "code",
   "execution_count": null,
   "metadata": {},
   "outputs": [],
   "source": [
    "# STEP 02: Now perform OR operations on binary form of numbers"
   ]
  },
  {
   "attachments": {},
   "cell_type": "markdown",
   "metadata": {},
   "source": [
    "10 binary form| 4 binary form | OR operation on binary form\n",
    "---------|----------|---------\n",
    " 1 | 0 | 1\n",
    " 0 | 1 | 1\n",
    " 1 | 0 | 1\n",
    " 0 | 0 | 0\n",
    "\n",
    "After performing OR operation on the binary form of 10 & 4 the **answer = 1110** \n",
    "as you can see in the OR column"
   ]
  },
  {
   "cell_type": "code",
   "execution_count": 22,
   "metadata": {},
   "outputs": [
    {
     "name": "stdout",
     "output_type": "stream",
     "text": [
      "14\n"
     ]
    }
   ],
   "source": [
    "# STEP 03: Now convert the answer into number/decimal/numeric form\n",
    "print(int('0b1110',2))\n",
    "\n",
    "# as you can see we get '14' same as the output of (10 | 4)"
   ]
  }
 ],
 "metadata": {
  "kernelspec": {
   "display_name": "Python 3",
   "language": "python",
   "name": "python3"
  },
  "language_info": {
   "codemirror_mode": {
    "name": "ipython",
    "version": 3
   },
   "file_extension": ".py",
   "mimetype": "text/x-python",
   "name": "python",
   "nbconvert_exporter": "python",
   "pygments_lexer": "ipython3",
   "version": "3.11.1"
  },
  "orig_nbformat": 4
 },
 "nbformat": 4,
 "nbformat_minor": 2
}
