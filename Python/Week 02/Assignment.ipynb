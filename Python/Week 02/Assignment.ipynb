{
 "cells": [
  {
   "attachments": {},
   "cell_type": "markdown",
   "metadata": {},
   "source": [
    "# **Assignment**"
   ]
  },
  {
   "attachments": {},
   "cell_type": "markdown",
   "metadata": {},
   "source": [
    "**Q1. How do you comment code in Python? What are the different types of comments?**"
   ]
  },
  {
   "attachments": {},
   "cell_type": "markdown",
   "metadata": {},
   "source": [
    "In Python, we use \"#\" for comments.\\\n",
    "\\\n",
    "**Types of comments:**\n",
    "* Single line comments - # \n",
    "* Multi-line comments - ''' or \"\"\""
   ]
  },
  {
   "attachments": {},
   "cell_type": "markdown",
   "metadata": {},
   "source": [
    "**Q2. What are variables in Python? How do you declare and assign values to variables?**"
   ]
  },
  {
   "attachments": {},
   "cell_type": "markdown",
   "metadata": {},
   "source": [
    "* A variable is a container that _**holds/stores**_ a value.\n",
    "* In Python, variables are created by _**assigning a value**_ to a name using assignment operator."
   ]
  },
  {
   "cell_type": "code",
   "execution_count": 8,
   "metadata": {},
   "outputs": [],
   "source": [
    "# Creating a variable(my_var) by assigning value '23' using assignment operator \"=\"\n",
    "my_var = 23"
   ]
  },
  {
   "attachments": {},
   "cell_type": "markdown",
   "metadata": {},
   "source": [
    "**Q3. How do you convert one data type to another in Python?**"
   ]
  },
  {
   "attachments": {},
   "cell_type": "markdown",
   "metadata": {},
   "source": [
    "To convert data into:\n",
    "* string use str( )\n",
    "* integer use int( )\n",
    "* list use list( )\n",
    "* float use float( )\n",
    "* Boolean use bool( )\n",
    "* tuple use tuple( )\n",
    "* dictionary use dict( )\n",
    "* set use set( )"
   ]
  },
  {
   "cell_type": "code",
   "execution_count": 11,
   "metadata": {},
   "outputs": [
    {
     "name": "stdout",
     "output_type": "stream",
     "text": [
      "<class 'str'>\n",
      "<class 'float'>\n",
      "<class 'bool'>\n"
     ]
    }
   ],
   "source": [
    "# let's create an integer variable\n",
    "x = 46\n",
    "\n",
    "# convert it into string\n",
    "print(type(str(x)))\n",
    "\n",
    "# convert it into float\n",
    "print(type(float(x)))\n",
    "\n",
    "# convert it into boolean\n",
    "print(type(bool(x)))\n"
   ]
  },
  {
   "attachments": {},
   "cell_type": "markdown",
   "metadata": {},
   "source": [
    "**Q4. How do you write and execute a Python script from the command line?**"
   ]
  },
  {
   "attachments": {},
   "cell_type": "markdown",
   "metadata": {},
   "source": [
    "1. Open a text editor and create a new file.\n",
    "2. Save the file with the .py extension.\n",
    "3. Write your Python code in the file.\n",
    "4. Open a command prompt or terminal window.\n",
    "5. Navigate to the directory where you saved your Python script.\n",
    "6. Type this command 'python your_script.py'.\n",
    "7. Press Enter."
   ]
  },
  {
   "attachments": {},
   "cell_type": "markdown",
   "metadata": {},
   "source": [
    "**Q5. Given a list my_list = [1, 2, 3, 4, 5], write the code to slice the list and obtain the sub-list [2, 3].**"
   ]
  },
  {
   "cell_type": "code",
   "execution_count": 12,
   "metadata": {},
   "outputs": [
    {
     "data": {
      "text/plain": [
       "[2, 3]"
      ]
     },
     "execution_count": 12,
     "metadata": {},
     "output_type": "execute_result"
    }
   ],
   "source": [
    "# create a list variable\n",
    "my_list = [1,2,3,4,5]\n",
    "\n",
    "# slicing the list\n",
    "my_list[1 : 3]"
   ]
  },
  {
   "attachments": {},
   "cell_type": "markdown",
   "metadata": {},
   "source": [
    "**Q6. What is a complex number in mathematics, and how is it represented in Python?**\n",
    "\n",
    "* In mathematics, a complex number is a number that can be expressed in the form **a + bi**, where a and b are real numbers and i is the imaginary unit.\n",
    "\n",
    "* In python, you can create complex number directly or you can use the complex function. It is written in the form of **x + yj** where x and y are real numbers and j is an imaginary number."
   ]
  },
  {
   "cell_type": "code",
   "execution_count": 14,
   "metadata": {},
   "outputs": [
    {
     "name": "stdout",
     "output_type": "stream",
     "text": [
      "(6+7j)\n"
     ]
    },
    {
     "data": {
      "text/plain": [
       "(2+5j)"
      ]
     },
     "execution_count": 14,
     "metadata": {},
     "output_type": "execute_result"
    }
   ],
   "source": [
    "# directly write complex number\n",
    "comp_var = 6 + 7j\n",
    "print(comp_var)\n",
    "\n",
    "# Using function\n",
    "complex(2 , 5)"
   ]
  },
  {
   "attachments": {},
   "cell_type": "markdown",
   "metadata": {},
   "source": [
    "**Q7. What is the correct way to declare a variable named age and assign the value 25 to it?**"
   ]
  },
  {
   "cell_type": "code",
   "execution_count": 15,
   "metadata": {},
   "outputs": [],
   "source": [
    "# correct way\n",
    "age = 25"
   ]
  },
  {
   "attachments": {},
   "cell_type": "markdown",
   "metadata": {},
   "source": [
    "**Q8. Declare a variable named price and assign the value 9.99 to it. What data type does this variable belong to?**"
   ]
  },
  {
   "cell_type": "code",
   "execution_count": 16,
   "metadata": {},
   "outputs": [
    {
     "data": {
      "text/plain": [
       "float"
      ]
     },
     "execution_count": 16,
     "metadata": {},
     "output_type": "execute_result"
    }
   ],
   "source": [
    "# declare a variable\n",
    "price = 9.99\n",
    "\n",
    "# check the data type\n",
    "type(price)"
   ]
  },
  {
   "attachments": {},
   "cell_type": "markdown",
   "metadata": {},
   "source": [
    "**Q9. Create a variable named name and assign your full name to it as a string. How would you print the value of this variable?**"
   ]
  },
  {
   "cell_type": "code",
   "execution_count": 17,
   "metadata": {},
   "outputs": [
    {
     "name": "stdout",
     "output_type": "stream",
     "text": [
      "subhan\n"
     ]
    }
   ],
   "source": [
    "# name variable\n",
    "name = 'subhan'\n",
    "\n",
    "# print the variable\n",
    "print(name)"
   ]
  },
  {
   "attachments": {},
   "cell_type": "markdown",
   "metadata": {},
   "source": [
    "**Q10. Given the string \"Hello, World!\", extract the substring \"World\".**"
   ]
  },
  {
   "cell_type": "code",
   "execution_count": 18,
   "metadata": {},
   "outputs": [
    {
     "data": {
      "text/plain": [
       "'World'"
      ]
     },
     "execution_count": 18,
     "metadata": {},
     "output_type": "execute_result"
    }
   ],
   "source": [
    "# create variable\n",
    "v = 'Hello, World'\n",
    "\n",
    "# slice the string\n",
    "v[7 : ]"
   ]
  },
  {
   "attachments": {},
   "cell_type": "markdown",
   "metadata": {},
   "source": [
    "**Q11. Create a variable named \"is_student\" and assign it a boolean value indicating whether you are currently a student or not.**"
   ]
  },
  {
   "cell_type": "code",
   "execution_count": 19,
   "metadata": {},
   "outputs": [],
   "source": [
    "# creating boolean variable\n",
    "is_student = True"
   ]
  }
 ],
 "metadata": {
  "kernelspec": {
   "display_name": "Python 3",
   "language": "python",
   "name": "python3"
  },
  "language_info": {
   "codemirror_mode": {
    "name": "ipython",
    "version": 3
   },
   "file_extension": ".py",
   "mimetype": "text/x-python",
   "name": "python",
   "nbconvert_exporter": "python",
   "pygments_lexer": "ipython3",
   "version": "3.11.1"
  },
  "orig_nbformat": 4
 },
 "nbformat": 4,
 "nbformat_minor": 2
}
