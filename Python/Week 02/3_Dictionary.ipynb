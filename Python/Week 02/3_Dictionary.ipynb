{
 "cells": [
  {
   "attachments": {},
   "cell_type": "markdown",
   "metadata": {},
   "source": [
    "# **Dictionary**\n",
    "* In Python, dictionary is a data type thate stores data in key-value pair.\n",
    "* A key is a unique identifier for a value, and a value can be any type of data.\n",
    "* Dictionaries are mutable, which means that they can be changed after they are created."
   ]
  },
  {
   "cell_type": "code",
   "execution_count": 1,
   "metadata": {},
   "outputs": [
    {
     "data": {
      "text/plain": [
       "{'name': 'subhan',\n",
       " 'Education': 'Phd in Data Science',\n",
       " 'Business': 'Data Science Agency',\n",
       " 'Assets': 'Digital Products',\n",
       " 'Islamic': 'Dars-e-Nizami'}"
      ]
     },
     "execution_count": 1,
     "metadata": {},
     "output_type": "execute_result"
    }
   ],
   "source": [
    "# Ler's create a dictionary variable\n",
    "d = {'name' : 'subhan', 'Education' : 'Phd in Data Science', 'Business' : 'Data Science Agency', 'Assets' : 'Digital Products', 'Islamic' : 'Dars-e-Nizami'}\n",
    "d"
   ]
  },
  {
   "cell_type": "code",
   "execution_count": 2,
   "metadata": {},
   "outputs": [],
   "source": [
    "# you can take key as a integer, string, boolean etc.\n",
    "d1 = {1 : 'food', 'age' : 23, True : 1}"
   ]
  },
  {
   "cell_type": "code",
   "execution_count": 3,
   "metadata": {},
   "outputs": [],
   "source": [
    "# create a new dictionary variable\n",
    "d2 = {'food' : 'Biryani', 'drink' : 'Milkshake', 'food' : 'Jalebi'}\n",
    "\n",
    "# if same keys repeats in a dictionary, python overwrite the previous keys with the last one\n",
    "d2['food']"
   ]
  },
  {
   "cell_type": "code",
   "execution_count": 6,
   "metadata": {},
   "outputs": [
    {
     "data": {
      "text/plain": [
       "'Google'"
      ]
     },
     "execution_count": 6,
     "metadata": {},
     "output_type": "execute_result"
    }
   ],
   "source": [
    "# create a new dictionary variable\n",
    "d3 = {'skill' : 'Data Science', 'courses' : ['Masters',  'Google', 'ZTM courses', 'ZU books']}\n",
    "\n",
    "# extract the character from the list within the dictionary\n",
    "d3['courses'][1]"
   ]
  },
  {
   "cell_type": "code",
   "execution_count": 7,
   "metadata": {},
   "outputs": [
    {
     "data": {
      "text/plain": [
       "{'food': 'Jalebi', 'drink': 'Milkshake', 'new value': 48}"
      ]
     },
     "execution_count": 7,
     "metadata": {},
     "output_type": "execute_result"
    }
   ],
   "source": [
    "# add new value in dictionay variable 'd2'\n",
    "d2['new value'] = 48\n",
    "d2"
   ]
  },
  {
   "cell_type": "code",
   "execution_count": 8,
   "metadata": {},
   "outputs": [
    {
     "data": {
      "text/plain": [
       "{'drink': 'Milkshake', 'new value': 48}"
      ]
     },
     "execution_count": 8,
     "metadata": {},
     "output_type": "execute_result"
    }
   ],
   "source": [
    "# delete the key\n",
    "del d2['food']\n",
    "d2"
   ]
  },
  {
   "cell_type": "code",
   "execution_count": 9,
   "metadata": {},
   "outputs": [
    {
     "data": {
      "text/plain": [
       "['name', 'Education', 'Business', 'Assets', 'Islamic']"
      ]
     },
     "execution_count": 9,
     "metadata": {},
     "output_type": "execute_result"
    }
   ],
   "source": [
    "# extract list of all keys\n",
    "list(d.keys())"
   ]
  },
  {
   "cell_type": "code",
   "execution_count": 10,
   "metadata": {},
   "outputs": [
    {
     "data": {
      "text/plain": [
       "['subhan',\n",
       " 'Phd in Data Science',\n",
       " 'Data Science Agency',\n",
       " 'Digital Products',\n",
       " 'Dars-e-Nizami']"
      ]
     },
     "execution_count": 10,
     "metadata": {},
     "output_type": "execute_result"
    }
   ],
   "source": [
    "# extract list of all values\n",
    "list(d.values())"
   ]
  },
  {
   "cell_type": "code",
   "execution_count": 11,
   "metadata": {},
   "outputs": [
    {
     "data": {
      "text/plain": [
       "[('name', 'subhan'),\n",
       " ('Education', 'Phd in Data Science'),\n",
       " ('Business', 'Data Science Agency'),\n",
       " ('Assets', 'Digital Products'),\n",
       " ('Islamic', 'Dars-e-Nizami')]"
      ]
     },
     "execution_count": 11,
     "metadata": {},
     "output_type": "execute_result"
    }
   ],
   "source": [
    "# list of all key-value pair\n",
    "list(d.items())"
   ]
  },
  {
   "cell_type": "code",
   "execution_count": 14,
   "metadata": {},
   "outputs": [
    {
     "data": {
      "text/plain": [
       "{'drink': 'Milkshake', 'new value': 48}"
      ]
     },
     "execution_count": 14,
     "metadata": {},
     "output_type": "execute_result"
    }
   ],
   "source": [
    "# call the variable\n",
    "d2"
   ]
  },
  {
   "cell_type": "code",
   "execution_count": 15,
   "metadata": {},
   "outputs": [
    {
     "data": {
      "text/plain": [
       "{'new value': 48}"
      ]
     },
     "execution_count": 15,
     "metadata": {},
     "output_type": "execute_result"
    }
   ],
   "source": [
    "# remove the key using pop function\n",
    "d2.pop('drink')\n",
    "d2"
   ]
  }
 ],
 "metadata": {
  "kernelspec": {
   "display_name": "Python 3",
   "language": "python",
   "name": "python3"
  },
  "language_info": {
   "codemirror_mode": {
    "name": "ipython",
    "version": 3
   },
   "file_extension": ".py",
   "mimetype": "text/x-python",
   "name": "python",
   "nbconvert_exporter": "python",
   "pygments_lexer": "ipython3",
   "version": "3.11.1"
  },
  "orig_nbformat": 4
 },
 "nbformat": 4,
 "nbformat_minor": 2
}
